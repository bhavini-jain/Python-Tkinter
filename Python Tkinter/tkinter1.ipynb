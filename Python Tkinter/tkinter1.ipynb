{
 "cells": [
  {
   "cell_type": "code",
   "execution_count": 3,
   "metadata": {},
   "outputs": [],
   "source": [
    "from tkinter import *   \n",
    "top = Tk()  \n",
    "\n",
    "top.mainloop()    "
   ]
  },
  {
   "cell_type": "code",
   "execution_count": 10,
   "metadata": {},
   "outputs": [],
   "source": [
    "from tkinter import *\n",
    "root= Tk()\n",
    "redbutton = Button(root,text=\"Red\",fg=\"red\")\n",
    "redbutton.pack(side = LEFT)\n",
    "greenbutton = Button(root,text=\"Green\",fg=\"green\")\n",
    "greenbutton.pack(side = RIGHT)\n",
    "bluebutton = Button(root,text=\"Blue\",fg=\"blue\")\n",
    "bluebutton.pack(side = TOP)\n",
    "blackbutton = Button(root,text=\"Black\",fg=\"black\")\n",
    "blackbutton.pack(side = BOTTOM)\n",
    "root.mainloop()"
   ]
  },
  {
   "cell_type": "code",
   "execution_count": 12,
   "metadata": {},
   "outputs": [],
   "source": [
    "from tkinter import *\n",
    "top = Tk()\n",
    "name = Label(top, text=\"Name\").grid(row = 0,column = 0)\n",
    "e1 = Entry(top).grid(row = 0, column=1)\n",
    "passord = Label(top, text=\"passwrd\").grid(row = 1, column = 0)\n",
    "e2 = Entry(top).grid(row = 1, column = 1)\n",
    "submit = Button(top, text=\"Submit\").grid(row=4,column=0)\n",
    "top.mainloop()"
   ]
  },
  {
   "cell_type": "code",
   "execution_count": 13,
   "metadata": {},
   "outputs": [],
   "source": [
    "from tkinter import *  \n",
    "top = Tk()  \n",
    "top.geometry(\"400x250\")  \n",
    "name = Label(top, text = \"Name\").place(x = 30,y = 50)  \n",
    "email = Label(top, text = \"Email\").place(x = 30, y = 90)  \n",
    "password = Label(top, text = \"Password\").place(x = 30, y = 130)  \n",
    "e1 = Entry(top).place(x = 80, y = 50)  \n",
    "e2 = Entry(top).place(x = 80, y = 90)  \n",
    "e3 = Entry(top).place(x = 95, y = 130)  \n",
    "top.mainloop()"
   ]
  },
  {
   "cell_type": "code",
   "execution_count": 15,
   "metadata": {},
   "outputs": [],
   "source": [
    "from tkinter import *    \n",
    "top = Tk()  \n",
    "  \n",
    "top.geometry(\"200x100\")    \n",
    "b = Button(top,text = \"Simple\")  \n",
    "  \n",
    "b.pack()    \n",
    "top.mainloop()"
   ]
  },
  {
   "cell_type": "code",
   "execution_count": 17,
   "metadata": {},
   "outputs": [],
   "source": [
    "from tkinter import  \n",
    "top = Tk()\n",
    "def fun():\n",
    "    messagebox.showinfo(\"Hello\",\"How are you!!\")\n",
    "top.mainloop()    "
   ]
  },
  {
   "cell_type": "code",
   "execution_count": 18,
   "metadata": {},
   "outputs": [],
   "source": [
    "from tkinter import *\n",
    "top = Tk()\n",
    "top.geometry(\"200x200\")\n",
    "\n",
    "c =  Canvas(top,bg=\"pink\",height=\"200\")\n",
    "\n",
    "c.pack()\n",
    "\n",
    "top.mainloop()"
   ]
  },
  {
   "cell_type": "code",
   "execution_count": 26,
   "metadata": {},
   "outputs": [],
   "source": [
    "from tkinter import *\n",
    "top = Tk()\n",
    "top.geometry(\"200x200\")\n",
    "\n",
    "c =  Canvas(top,bg=\"pink\",height=\"200\",width=200)\n",
    "\n",
    "arc=c.create_arc((2,10,150,200),start=0,extent=150,fill=\"white\")\n",
    "\n",
    "c.pack()\n",
    "\n",
    "top.mainloop()"
   ]
  },
  {
   "cell_type": "code",
   "execution_count": 30,
   "metadata": {},
   "outputs": [],
   "source": [
    "from tkinter import *  \n",
    "top = Tk()  \n",
    "top.geometry(\"400x250\")  \n",
    "name = Label(top, text=\"Name\").place(x=30,y=50)\n",
    "email = Label(top, text=\"Email\").place(x=30,y=90)\n",
    "password= Label(top, text =\"Password\").place(x=30,y=130)\n",
    "submit=Button(top,text=\"SUBMIT\",activebackground=\"pink\",activeforeground=\"blue\").place(x=30,y=170)\n",
    "e1=Entry(top).place(x=80,y=50)\n",
    "e2=Entry(top).place(x=80,y=90)\n",
    "e3 = Entry(top).place(x = 95, y = 130)  \n",
    "top.mainloop()  "
   ]
  },
  {
   "cell_type": "code",
   "execution_count": 31,
   "metadata": {},
   "outputs": [],
   "source": [
    "#SIMPLE CALCULATOR\n",
    "\n",
    "import tkinter as tk  \n",
    "from functools import partial  \n",
    "   \n",
    "   \n",
    "def call_result(label_result, n1, n2):  \n",
    "    num1 = (n1.get())  \n",
    "    num2 = (n2.get())  \n",
    "    result = int(num1)+int(num2)  \n",
    "    label_result.config(text=\"Result = %d\" % result)  \n",
    "    return  \n",
    "   \n",
    "root = tk.Tk()  \n",
    "root.geometry('400x200+100+200')  \n",
    "  \n",
    "root.title('Calculator')  \n",
    "   \n",
    "number1 = tk.StringVar()  \n",
    "number2 = tk.StringVar()  \n",
    "  \n",
    "labelNum1 = tk.Label(root, text=\"A\").grid(row=1, column=0)  \n",
    "  \n",
    "labelNum2 = tk.Label(root, text=\"B\").grid(row=2, column=0)  \n",
    "  \n",
    "labelResult = tk.Label(root)  \n",
    "  \n",
    "labelResult.grid(row=7, column=2)  \n",
    "  \n",
    "entryNum1 = tk.Entry(root, textvariable=number1).grid(row=1, column=2)  \n",
    "  \n",
    "entryNum2 = tk.Entry(root, textvariable=number2).grid(row=2, column=2)  \n",
    "  \n",
    "call_result = partial(call_result, labelResult, number1, number2)  \n",
    "  \n",
    "buttonCal = tk.Button(root, text=\"Calculate\", command=call_result).grid(row=3, column=0)  \n",
    "  \n",
    "root.mainloop()  "
   ]
  },
  {
   "cell_type": "code",
   "execution_count": 33,
   "metadata": {},
   "outputs": [],
   "source": [
    "from tkinter import *  \n",
    "  \n",
    "top = Tk()  \n",
    "top.geometry(\"140x100\")  \n",
    "frame = Frame(top,width=\"20\")  \n",
    "frame.pack()  \n",
    "  \n",
    "leftframe = Frame(top)  \n",
    "leftframe.pack(side = LEFT)  \n",
    "  \n",
    "rightframe = Frame(top)  \n",
    "rightframe.pack(side = RIGHT) "
   ]
  },
  {
   "cell_type": "code",
   "execution_count": 35,
   "metadata": {},
   "outputs": [],
   "source": [
    "from tkinter import *  \n",
    "  \n",
    "top = Tk()  \n",
    "  \n",
    "top.geometry(\"200x250\")  \n",
    "  \n",
    "menubutton = Menubutton(top, text = \"Language\", relief = FLAT)  \n",
    "  \n",
    "menubutton.grid()  \n",
    "  \n",
    "menubutton.menu = Menu(menubutton)  \n",
    "  \n",
    "menubutton[\"menu\"]=menubutton.menu  \n",
    "  \n",
    "menubutton.menu.add_checkbutton(label = \"Hindi\", variable=IntVar())  \n",
    "  \n",
    "menubutton.menu.add_checkbutton(label = \"English\", variable = IntVar())  \n",
    "  \n",
    "menubutton.pack()  \n",
    "  \n",
    "top.mainloop()  "
   ]
  },
  {
   "cell_type": "code",
   "execution_count": null,
   "metadata": {},
   "outputs": [],
   "source": []
  }
 ],
 "metadata": {
  "kernelspec": {
   "display_name": "Python 3",
   "language": "python",
   "name": "python3"
  },
  "language_info": {
   "codemirror_mode": {
    "name": "ipython",
    "version": 3
   },
   "file_extension": ".py",
   "mimetype": "text/x-python",
   "name": "python",
   "nbconvert_exporter": "python",
   "pygments_lexer": "ipython3",
   "version": "3.7.6"
  }
 },
 "nbformat": 4,
 "nbformat_minor": 4
}
